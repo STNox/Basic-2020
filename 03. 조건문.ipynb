{
 "cells": [
  {
   "cell_type": "markdown",
   "metadata": {},
   "source": [
    "# 조건문"
   ]
  },
  {
   "cell_type": "code",
   "execution_count": 3,
   "metadata": {},
   "outputs": [
    {
     "name": "stdout",
     "output_type": "stream",
     "text": [
      "정수 입력: -3\n"
     ]
    }
   ],
   "source": [
    "# 양수 판별\n",
    "n = int(input('정수 입력: '))"
   ]
  },
  {
   "cell_type": "code",
   "execution_count": 5,
   "metadata": {},
   "outputs": [
    {
     "name": "stdout",
     "output_type": "stream",
     "text": [
      "-3은(는) 0 또는 음수입니다.\n"
     ]
    }
   ],
   "source": [
    "if n > 0:\n",
    "    print('%d은(는) 양수입니다.' % n)\n",
    "else:\n",
    "    print('%d은(는) 0 또는 음수입니다.' % n)"
   ]
  },
  {
   "cell_type": "code",
   "execution_count": 6,
   "metadata": {},
   "outputs": [
    {
     "name": "stdout",
     "output_type": "stream",
     "text": [
      "필기 성적을 입력하세요:90\n",
      "실기 성적을 입력하세요:85\n"
     ]
    }
   ],
   "source": [
    "# 논리 곱\n",
    "score1 = int(input('필기 성적을 입력하세요:'))\n",
    "score2 = int(input('실기 성적을 입력하세요:'))"
   ]
  },
  {
   "cell_type": "code",
   "execution_count": 7,
   "metadata": {},
   "outputs": [
    {
     "name": "stdout",
     "output_type": "stream",
     "text": [
      "합격!\n"
     ]
    }
   ],
   "source": [
    "if score1 >= 80 and score2 >= 80:\n",
    "    print('합격!')\n",
    "else:\n",
    "    print('불합격')\n",
    "\n",
    "# 비교 연산자와 논리 연산자가 같이 있으면 비교 연산자가 우선"
   ]
  },
  {
   "cell_type": "code",
   "execution_count": 11,
   "metadata": {},
   "outputs": [
    {
     "name": "stdout",
     "output_type": "stream",
     "text": [
      "이름을 입력하세요:John\n"
     ]
    }
   ],
   "source": [
    "# 논리 부정\n",
    "name = input('이름을 입력하세요:')"
   ]
  },
  {
   "cell_type": "code",
   "execution_count": 12,
   "metadata": {},
   "outputs": [
    {
     "name": "stdout",
     "output_type": "stream",
     "text": [
      "입력된 이름: John\n"
     ]
    }
   ],
   "source": [
    "if not name:\n",
    "    print('이름이 입력되지 않았습니다.')\n",
    "else:\n",
    "    print('입력된 이름: %s' % name)"
   ]
  },
  {
   "cell_type": "code",
   "execution_count": 17,
   "metadata": {},
   "outputs": [
    {
     "name": "stdout",
     "output_type": "stream",
     "text": [
      "정수 입력: 5\n"
     ]
    }
   ],
   "source": [
    "# 양수, 0, 음수 판별\n",
    "n = int(input('정수 입력: '))"
   ]
  },
  {
   "cell_type": "code",
   "execution_count": 18,
   "metadata": {},
   "outputs": [
    {
     "name": "stdout",
     "output_type": "stream",
     "text": [
      "5은(는) 양수입니다.\n"
     ]
    }
   ],
   "source": [
    "if n > 0:\n",
    "    print('%d은(는) 양수입니다.' % n)\n",
    "elif n == 0:\n",
    "    print('%d은(는) 0입니다.' % n)\n",
    "else:\n",
    "    print('%d은(는) 음수입니다.' % n)\n"
   ]
  },
  {
   "cell_type": "code",
   "execution_count": 25,
   "metadata": {},
   "outputs": [
    {
     "name": "stdout",
     "output_type": "stream",
     "text": [
      "점수를 입력하세요: 101\n",
      "성적: 101점\n",
      "등급: Error\n"
     ]
    }
   ],
   "source": [
    "score = int(input('점수를 입력하세요: '))\n",
    "\n",
    "if score > 100:\n",
    "    grade = 'Error'\n",
    "elif score >= 90:\n",
    "    grade = 'A'\n",
    "elif score >= 80:\n",
    "    grade = 'B'\n",
    "elif score >= 70:\n",
    "    grade = 'C'\n",
    "elif score >= 60:\n",
    "    grade = 'D'\n",
    "else:\n",
    "    grade = 'F'\n",
    "    \n",
    "print('성적: %d점' % score)\n",
    "print('등급: %s' % grade)"
   ]
  },
  {
   "cell_type": "code",
   "execution_count": 27,
   "metadata": {},
   "outputs": [
    {
     "name": "stdout",
     "output_type": "stream",
     "text": [
      "세 숫자 입력: 45 49 30\n"
     ]
    }
   ],
   "source": [
    "# 세 수의 합과 평균\n",
    "x, y, z = input('세 숫자 입력: ').split()"
   ]
  },
  {
   "cell_type": "code",
   "execution_count": 29,
   "metadata": {},
   "outputs": [
    {
     "data": {
      "text/plain": [
       "(45, 49, 30)"
      ]
     },
     "execution_count": 29,
     "metadata": {},
     "output_type": "execute_result"
    }
   ],
   "source": [
    "int(x), int(y), int(z)"
   ]
  },
  {
   "cell_type": "code",
   "execution_count": 31,
   "metadata": {},
   "outputs": [
    {
     "name": "stdout",
     "output_type": "stream",
     "text": [
      "세 개의 숫자 입력: 78 98 55\n"
     ]
    },
    {
     "data": {
      "text/plain": [
       "(78, 98, 55)"
      ]
     },
     "execution_count": 31,
     "metadata": {},
     "output_type": "execute_result"
    }
   ],
   "source": [
    "x, y, z = map(int, input('세 개의 숫자 입력: ').split())\n",
    "x, y, z\n",
    "\n",
    "# input().split() 먼저 수행 -> map()으로 str을 int로 각각 변환"
   ]
  },
  {
   "cell_type": "code",
   "execution_count": 32,
   "metadata": {},
   "outputs": [
    {
     "data": {
      "text/plain": [
       "(231, 77.0)"
      ]
     },
     "execution_count": 32,
     "metadata": {},
     "output_type": "execute_result"
    }
   ],
   "source": [
    "sum = x + y + z\n",
    "avg = sum / 3\n",
    "sum, avg"
   ]
  },
  {
   "cell_type": "code",
   "execution_count": 33,
   "metadata": {},
   "outputs": [],
   "source": [
    "# 만 나이 계산\n",
    "current_year = 2020\n",
    "current_month = 8\n",
    "current_day = 28"
   ]
  },
  {
   "cell_type": "code",
   "execution_count": 43,
   "metadata": {},
   "outputs": [
    {
     "name": "stdout",
     "output_type": "stream",
     "text": [
      "생년월일 입력: 2000 8 11\n"
     ]
    },
    {
     "data": {
      "text/plain": [
       "(2000, 8, 11)"
      ]
     },
     "execution_count": 43,
     "metadata": {},
     "output_type": "execute_result"
    }
   ],
   "source": [
    "birth_year, birth_month, birth_day = map(int, input('생년월일 입력: ').split())\n",
    "birth_year, birth_month, birth_day"
   ]
  },
  {
   "cell_type": "code",
   "execution_count": 45,
   "metadata": {},
   "outputs": [
    {
     "data": {
      "text/plain": [
       "19"
      ]
     },
     "execution_count": 45,
     "metadata": {},
     "output_type": "execute_result"
    }
   ],
   "source": [
    "if birth_month < current_month:         #현재 월 > 생월\n",
    "    age = current_year - birth_year\n",
    "elif birth_month > current_month:       #현재 월 < 생월\n",
    "    age = current_year - birth_year - 1\n",
    "else:                                   #현재 월 == 생월\n",
    "    if birth_day > current_day:         #현재 일 < 생일\n",
    "        age = current_year - birth_year - 1\n",
    "    else:                               #현재 일 >= 생일\n",
    "        age = current_year - birth_year\n",
    "\n",
    "print(age)"
   ]
  },
  {
   "cell_type": "code",
   "execution_count": 3,
   "metadata": {},
   "outputs": [
    {
     "data": {
      "text/plain": [
       "datetime.datetime(2020, 8, 28, 11, 27, 16, 884111)"
      ]
     },
     "execution_count": 3,
     "metadata": {},
     "output_type": "execute_result"
    }
   ],
   "source": [
    "# 파이썬 datetime 모듈 활용\n",
    "import datetime\n",
    "datetime.datetime.now()"
   ]
  },
  {
   "cell_type": "code",
   "execution_count": 4,
   "metadata": {},
   "outputs": [
    {
     "data": {
      "text/plain": [
       "(2020, 8, 28)"
      ]
     },
     "execution_count": 4,
     "metadata": {},
     "output_type": "execute_result"
    }
   ],
   "source": [
    "current_year = datetime.datetime.now().year\n",
    "current_month = datetime.datetime.now().month\n",
    "current_day = datetime.datetime.now().day\n",
    "current_year, current_month, current_day"
   ]
  },
  {
   "cell_type": "code",
   "execution_count": 9,
   "metadata": {},
   "outputs": [
    {
     "name": "stdout",
     "output_type": "stream",
     "text": [
      "생년월일 입력: 2000 8 29\n"
     ]
    },
    {
     "data": {
      "text/plain": [
       "(2000, 8, 29)"
      ]
     },
     "execution_count": 9,
     "metadata": {},
     "output_type": "execute_result"
    }
   ],
   "source": [
    "birth_year, birth_month, birth_day = map(int, input('생년월일 입력: ').split())\n",
    "birth_year, birth_month, birth_day"
   ]
  },
  {
   "cell_type": "code",
   "execution_count": 10,
   "metadata": {},
   "outputs": [
    {
     "name": "stdout",
     "output_type": "stream",
     "text": [
      "19\n"
     ]
    }
   ],
   "source": [
    "if birth_month < current_month:         #현재 월 > 생월\n",
    "    age = current_year - birth_year\n",
    "elif birth_month > current_month:       #현재 월 < 생월\n",
    "    age = current_year - birth_year - 1\n",
    "else:                                   #현재 월 == 생월\n",
    "    if birth_day > current_day:         #현재 일 < 생일\n",
    "        age = current_year - birth_year - 1\n",
    "    else:                               #현재 일 >= 생일\n",
    "        age = current_year - birth_year\n",
    "\n",
    "print(age)"
   ]
  },
  {
   "cell_type": "code",
   "execution_count": 22,
   "metadata": {},
   "outputs": [
    {
     "name": "stdout",
     "output_type": "stream",
     "text": [
      "생일 입력: 20200811\n",
      "2020 8 11\n"
     ]
    }
   ],
   "source": [
    "# 연속된 숫자로 생일을 입력 받아 처리하기\n",
    "birthday = input('생일 입력: ')\n",
    "if len(birthday) == 8:\n",
    "    b_year = int(birthday[:4])\n",
    "    b_month = int(birthday[4:6])\n",
    "    b_day = int(birthday[6:])\n",
    "elif len(birthday) == 6:\n",
    "    b_year = int(birthday[:2])\n",
    "    if b_year <= 20:\n",
    "        b_year += 2000\n",
    "    else:\n",
    "        b_year += 1900\n",
    "    b_month = int(birthday[2:4])\n",
    "    b_day = int(birthday[4:])\n",
    "elif len(birthday) == 7:\n",
    "    b_year = int(birthday[:2])\n",
    "    if int(birthday[-1]) > 2:\n",
    "        b_year += 2000\n",
    "    else:\n",
    "        b_year += 1900\n",
    "    b_month = int(birthday[2:4])\n",
    "    b_day = int(birthday[4:6])\n",
    "else:\n",
    "    print('6-8자리의 숫자를 입력하세요')\n",
    "                \n",
    "print(b_year, b_month, b_day)"
   ]
  },
  {
   "cell_type": "code",
   "execution_count": null,
   "metadata": {},
   "outputs": [],
   "source": []
  }
 ],
 "metadata": {
  "kernelspec": {
   "display_name": "Python 3",
   "language": "python",
   "name": "python3"
  },
  "language_info": {
   "codemirror_mode": {
    "name": "ipython",
    "version": 3
   },
   "file_extension": ".py",
   "mimetype": "text/x-python",
   "name": "python",
   "nbconvert_exporter": "python",
   "pygments_lexer": "ipython3",
   "version": "3.8.3"
  }
 },
 "nbformat": 4,
 "nbformat_minor": 4
}
